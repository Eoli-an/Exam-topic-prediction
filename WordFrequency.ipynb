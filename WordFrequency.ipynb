{
  "cells": [
    {
      "cell_type": "markdown",
      "metadata": {
        "id": "view-in-github",
        "colab_type": "text"
      },
      "source": [
        "<a href=\"https://colab.research.google.com/github/Eoli-an/Exam-topic-prediction/blob/main/WordFrequency.ipynb\" target=\"_parent\"><img src=\"https://colab.research.google.com/assets/colab-badge.svg\" alt=\"Open In Colab\"/></a>"
      ]
    },
    {
      "cell_type": "markdown",
      "metadata": {
        "id": "xRoQ15RIxyTr"
      },
      "source": [
        "# Import Files"
      ]
    },
    {
      "cell_type": "code",
      "execution_count": 2,
      "metadata": {
        "colab": {
          "base_uri": "https://localhost:8080/"
        },
        "id": "VM6ZNhrtxh2a",
        "outputId": "74d17b17-2d0f-428c-816e-a40421c973fc"
      },
      "outputs": [
        {
          "output_type": "stream",
          "name": "stdout",
          "text": [
            "[nltk_data] Downloading package punkt to /root/nltk_data...\n",
            "[nltk_data]   Package punkt is already up-to-date!\n",
            "[nltk_data] Downloading package averaged_perceptron_tagger to\n",
            "[nltk_data]     /root/nltk_data...\n",
            "[nltk_data]   Package averaged_perceptron_tagger is already up-to-\n",
            "[nltk_data]       date!\n",
            "[nltk_data] Downloading package brown to /root/nltk_data...\n",
            "[nltk_data]   Package brown is already up-to-date!\n"
          ]
        }
      ],
      "source": [
        "import os\n",
        "import nltk\n",
        "from textblob import TextBlob\n",
        "nltk.download('punkt')\n",
        "nltk.download('averaged_perceptron_tagger')\n",
        "nltk.download('brown')\n",
        "import matplotlib.pyplot as plt\n",
        "import re\n"
      ]
    },
    {
      "cell_type": "code",
      "execution_count": 3,
      "metadata": {
        "id": "Ub7uMmF-v4DT"
      },
      "outputs": [],
      "source": [
        "def read_text_file(file_path):\n",
        "    with open(file_path, 'r') as f:\n",
        "        return(f.read())"
      ]
    },
    {
      "cell_type": "code",
      "execution_count": 4,
      "metadata": {
        "id": "gfwIustEwqVA"
      },
      "outputs": [],
      "source": [
        "lectures = [read_text_file(os.path.join(\"Transcribes\", file)) for file in os.listdir(\"Transcribes\")]"
      ]
    },
    {
      "cell_type": "code",
      "execution_count": 10,
      "metadata": {
        "colab": {
          "base_uri": "https://localhost:8080/"
        },
        "id": "AjIQOUJKEDg1",
        "outputId": "a084b610-d3e8-41b8-d470-fc1482ea8be2"
      },
      "outputs": [
        {
          "output_type": "execute_result",
          "data": {
            "text/plain": [
              "['Lecture_09.txt',\n",
              " 'Lecture_07.txt',\n",
              " 'Lecture_04.txt',\n",
              " 'Lecture_02.txt',\n",
              " 'Lecture_10.txt',\n",
              " 'Lecture_12.txt',\n",
              " 'Lecture_08.txt',\n",
              " 'Lecture_06.txt',\n",
              " 'Lecture_05.txt',\n",
              " 'Lecture_11.txt',\n",
              " 'Lecture_03.txt']"
            ]
          },
          "metadata": {},
          "execution_count": 10
        }
      ],
      "source": [
        "a = [file for file in os.listdir(\"Transcribes\")]\n",
        "#a.sort()\n",
        "a"
      ]
    },
    {
      "cell_type": "code",
      "execution_count": null,
      "metadata": {
        "id": "eXSaSzFiEwGj",
        "outputId": "548bf5d1-2306-490e-e406-ce683e5039a5"
      },
      "outputs": [
        {
          "data": {
            "text/plain": [
              "['Lecture_02.txt',\n",
              " 'Lecture_03.txt',\n",
              " 'Lecture_04.txt',\n",
              " 'Lecture_05.txt',\n",
              " 'Lecture_06.txt',\n",
              " 'Lecture_07.txt',\n",
              " 'Lecture_08.txt',\n",
              " 'Lecture_09.txt',\n",
              " 'Lecture_10.txt',\n",
              " 'Lecture_11.txt',\n",
              " 'Lecture_12.txt']"
            ]
          },
          "execution_count": 88,
          "metadata": {},
          "output_type": "execute_result"
        }
      ],
      "source": [
        "['Lecture_02.txt',\n",
        " 'Lecture_03.txt',\n",
        " 'Lecture_04.txt',\n",
        " 'Lecture_05.txt',\n",
        " 'Lecture_06.txt',\n",
        " 'Lecture_07.txt',\n",
        " 'Lecture_08.txt',\n",
        " 'Lecture_09.txt',\n",
        " 'Lecture_10.txt',\n",
        " 'Lecture_11.txt',\n",
        " 'Lecture_12.txt']"
      ]
    },
    {
      "cell_type": "markdown",
      "metadata": {
        "id": "CovpFnO2x_Od"
      },
      "source": [
        "# Exploration"
      ]
    },
    {
      "cell_type": "code",
      "execution_count": null,
      "metadata": {
        "id": "tT3Ydmg8zbme",
        "outputId": "d023ea5d-0009-4bf8-90dd-d01c68da6f53"
      },
      "outputs": [
        {
          "data": {
            "text/plain": [
              "[('right', 19),\n",
              " ('going', 20),\n",
              " ('function', 20),\n",
              " ('all', 20),\n",
              " ('now', 20),\n",
              " ('very', 21),\n",
              " ('mean', 21),\n",
              " ('know', 21),\n",
              " ('equal', 21),\n",
              " ('example', 21),\n",
              " ('random', 21),\n",
              " ('density', 21),\n",
              " ('way', 22),\n",
              " ('bias', 22),\n",
              " ('variance', 22),\n",
              " ('Yes', 23),\n",
              " ('case', 23),\n",
              " ('y', 24),\n",
              " ('population', 24),\n",
              " ('get', 24),\n",
              " ('they', 24),\n",
              " ('number', 25),\n",
              " ('Yeah', 25),\n",
              " ('see', 26),\n",
              " ('your', 26),\n",
              " ('experiment', 26),\n",
              " ('at', 27),\n",
              " ('want', 27),\n",
              " ('also', 28),\n",
              " ('first', 28),\n",
              " (\"n't\", 28),\n",
              " ('sample', 30),\n",
              " ('some', 31),\n",
              " ('two', 31),\n",
              " ('how', 32),\n",
              " ('samples', 32),\n",
              " ('actually', 32),\n",
              " ('probability', 32),\n",
              " ('data', 33),\n",
              " ('estimator', 33),\n",
              " ('think', 35),\n",
              " ('maybe', 35),\n",
              " ('which', 35),\n",
              " ('But', 35),\n",
              " ('distribution', 35),\n",
              " ('more', 35),\n",
              " ('basically', 36),\n",
              " ('people', 38),\n",
              " ('expectation', 38),\n",
              " ('about', 41),\n",
              " ('would', 42),\n",
              " ('not', 43),\n",
              " ('sampling', 43),\n",
              " ('an', 44),\n",
              " ('with', 44),\n",
              " ('or', 45),\n",
              " ('but', 45),\n",
              " ('by', 45),\n",
              " ('as', 47),\n",
              " (\"'re\", 47),\n",
              " ('here', 49),\n",
              " ('one', 50),\n",
              " ('on', 53),\n",
              " ('like', 55),\n",
              " ('because', 55),\n",
              " ('there', 56),\n",
              " ('then', 57),\n",
              " ('Okay', 60),\n",
              " ('just', 63),\n",
              " ('what', 67),\n",
              " ('will', 69),\n",
              " ('do', 69),\n",
              " ('from', 71),\n",
              " ('?', 73),\n",
              " ('x', 75),\n",
              " ('are', 79),\n",
              " ('so', 81),\n",
              " ('if', 82),\n",
              " (\"'s\", 101),\n",
              " ('have', 105),\n",
              " ('be', 106),\n",
              " ('for', 110),\n",
              " ('can', 112),\n",
              " ('I', 117),\n",
              " ('And', 136),\n",
              " ('in', 140),\n",
              " ('it', 141),\n",
              " ('and', 150),\n",
              " ('So', 199),\n",
              " ('that', 204),\n",
              " ('we', 209),\n",
              " ('a', 213),\n",
              " ('to', 248),\n",
              " ('is', 260),\n",
              " ('this', 269),\n",
              " ('of', 287),\n",
              " ('you', 309),\n",
              " ('.', 585),\n",
              " ('the', 593),\n",
              " (',', 693)]"
            ]
          },
          "execution_count": 6,
          "metadata": {},
          "output_type": "execute_result"
        }
      ],
      "source": [
        "# word frequency\n",
        "tokens = nltk.word_tokenize(lectures[0])\n",
        "freq = nltk.FreqDist(tokens)\n",
        "freq = sorted(freq.items(), key=lambda item: item[1])\n",
        "freq[-100:]\n"
      ]
    },
    {
      "cell_type": "code",
      "execution_count": null,
      "metadata": {
        "id": "Hj7RzuBZ13Ia"
      },
      "outputs": [],
      "source": [
        "# word frequency of nouns\n",
        "# TODO rather restrictive, i.e. regression and logistic regression are two different words\n",
        "blob = TextBlob(lectures[0])\n",
        "freq = nltk.FreqDist(blob.noun_phrases)\n",
        "freq = sorted(freq.items(), key=lambda item: item[1])\n",
        "\n"
      ]
    },
    {
      "cell_type": "code",
      "execution_count": null,
      "metadata": {
        "id": "fGhg19Ms2viF",
        "outputId": "66c0ed18-b291-47dc-85bb-60965e3e732e"
      },
      "outputs": [
        {
          "data": {
            "text/plain": [
              "[('be', 106),\n",
              " ('for', 110),\n",
              " ('can', 112),\n",
              " ('I', 117),\n",
              " ('And', 136),\n",
              " ('in', 140),\n",
              " ('it', 141),\n",
              " ('and', 150),\n",
              " ('So', 199),\n",
              " ('that', 204),\n",
              " ('we', 209),\n",
              " ('a', 213),\n",
              " ('to', 248),\n",
              " ('is', 260),\n",
              " ('this', 269),\n",
              " ('of', 287),\n",
              " ('you', 309),\n",
              " ('.', 585),\n",
              " ('the', 593),\n",
              " (',', 693)]"
            ]
          },
          "execution_count": 8,
          "metadata": {},
          "output_type": "execute_result"
        }
      ],
      "source": [
        "# TODO does not rlly work\n",
        "is_noun = lambda pos: pos[:2] == 'NN'\n",
        "tokenized = nltk.word_tokenize(lectures[0])\n",
        "freq = [word for (word, pos) in nltk.pos_tag(tokenized) if is_noun(pos)] \n",
        "freq = nltk.FreqDist(tokens)\n",
        "freq = sorted(freq.items(), key=lambda item: item[1])\n",
        "freq[-20:]"
      ]
    },
    {
      "cell_type": "markdown",
      "metadata": {
        "id": "KbczwHhX7R62"
      },
      "source": [
        "# Tokens with overall highest frequency"
      ]
    },
    {
      "cell_type": "code",
      "execution_count": null,
      "metadata": {
        "colab": {
          "base_uri": "https://localhost:8080/"
        },
        "id": "PI7nkRxX7Se5",
        "outputId": "026e96e1-c005-46ee-bbbf-04ab13c75755"
      },
      "outputs": [
        {
          "data": {
            "text/plain": [
              "[(\"'s kind\", 32),\n",
              " ('maximum likelihood estimate', 32),\n",
              " ('null hypothesis', 33),\n",
              " ('python', 34),\n",
              " ('machine learning', 35),\n",
              " ('log likelihood', 35),\n",
              " ('logistic regression', 35),\n",
              " ('ai', 40),\n",
              " ('fisher', 42),\n",
              " ('oh', 47),\n",
              " ('germany', 52),\n",
              " ('linear regression', 52),\n",
              " ('bayesian', 60),\n",
              " (\"ca n't\", 72),\n",
              " ('well', 78),\n",
              " ('yeah', 79),\n",
              " ('pca', 85),\n",
              " ('right', 125),\n",
              " ('gaussian', 153),\n",
              " ('okay', 433)]"
            ]
          },
          "execution_count": 9,
          "metadata": {},
          "output_type": "execute_result"
        }
      ],
      "source": [
        "joined = \"\"\n",
        "for l in lectures:\n",
        "  joined += \" \" + l\n",
        "blob = TextBlob(joined)\n",
        "freq = nltk.FreqDist(blob.noun_phrases)\n",
        "freq = sorted(freq.items(), key=lambda item: item[1])\n",
        "freq[-20:]"
      ]
    },
    {
      "cell_type": "code",
      "execution_count": null,
      "metadata": {
        "id": "xSiX2w-REfT3"
      },
      "outputs": [],
      "source": [
        ""
      ]
    },
    {
      "cell_type": "code",
      "execution_count": null,
      "metadata": {
        "id": "vre03R_fEfT4"
      },
      "outputs": [],
      "source": [
        ""
      ]
    },
    {
      "cell_type": "code",
      "execution_count": null,
      "metadata": {
        "id": "AdfD15wX9UBD"
      },
      "outputs": [],
      "source": [
        "# absolute occurances of sensible noun phrases of top 50\n",
        "# 9844 noun phrases\n",
        "# (trivia - he said okay 434 times)\n",
        "result_all = {\"gaussian\":153,\"pca\":85,\"bayesian\":60,\"linear regression\":52,\"fisher\":42,\"ai\":40,\"machine learning\":35,\"logistic regression\":35,\"log likelihood\":35,\"null hypothesis\":33,\"maximum likelihood estimate\":32,\n",
        " \"iid\":31,\"standard deviation\":28,\"linear function\":28,\"principal component\":21,\"random number\":19,\"high dimensional space\":19,\"dimensional space\":19,\"laplace\":18,\"p value\":17,\n",
        " \"control group\":17, \"monte carlo\":16,\"information matrix\":15,\"linear model\":15}\n"
      ]
    },
    {
      "cell_type": "markdown",
      "metadata": {
        "id": "WZxjjvnj865g"
      },
      "source": [
        "# High frequency tokens per lecture"
      ]
    },
    {
      "cell_type": "code",
      "source": [
        "#lecture 02\n",
        "#total 572\n",
        "l2 = [('joint probability', 2),\n",
        " ('joint distribution', 2),\n",
        " ('marginal distribution', 2),\n",
        " ('conditional probability', 2),\n",
        " ('test quantity', 2),\n",
        " ('binary search', 2),\n",
        " ('data analysis', 2),\n",
        " ('noncentral moment', 2),\n",
        " ('square distance', 2),\n",
        " ('function outputs', 2),\n",
        " ('expectation operator', 2),\n",
        " ('individual expectations', 2),\n",
        " ('variance drops', 2),\n",
        " ('uniform distribution', 2),\n",
        " ('gaussian', 2),\n",
        " ('observational studies', 3),\n",
        " ('observational study', 3),\n",
        " ('convergence rate', 4),\n",
        " ('data source', 5),\n",
        " ('random number', 6),\n",
        " ('monte carlo', 9),\n",
        " ('iid', 18)]"
      ],
      "metadata": {
        "id": "KvqXITBDSb52"
      },
      "execution_count": 49,
      "outputs": []
    },
    {
      "cell_type": "code",
      "source": [
        ""
      ],
      "metadata": {
        "colab": {
          "base_uri": "https://localhost:8080/"
        },
        "id": "aBYrTquxcGJf",
        "outputId": "e7388cd9-4f3a-469a-e891-32d434453ae6"
      },
      "execution_count": 38,
      "outputs": [
        {
          "output_type": "execute_result",
          "data": {
            "text/plain": [
              "3.1638333511661747"
            ]
          },
          "metadata": {},
          "execution_count": 38
        }
      ]
    },
    {
      "cell_type": "code",
      "execution_count": 48,
      "metadata": {
        "id": "PEr6o_SoFCtm"
      },
      "outputs": [],
      "source": [
        "# lecture 3\n",
        "# total 838\n",
        "l3 = [('maximum likelihood', 2),\n",
        " ('machine learning class', 2),\n",
        " ('x i', 2),\n",
        " ('s square', 2),\n",
        " ('consistent estimate', 2),\n",
        " ('binary logarithm', 3),\n",
        " ('conditional distribution', 3),\n",
        " ('binary questions', 3),\n",
        " ('information gain', 3),\n",
        " ('euclidean', 3),\n",
        " ('standard deviation', 3),\n",
        " ('kl', 3),\n",
        " ('random numbers', 4),\n",
        " ('iid', 4),\n",
        " ('information content', 4),\n",
        " ('log likelihood', 4),\n",
        " ('sufficient statistics', 4),\n",
        " ('qr', 5),\n",
        " ('monte carlo', 5),\n",
        " ('square root', 5),\n",
        " ('shannon', 5),\n",
        " ('conditional entropy', 5),\n",
        " ('sigma square', 7),\n",
        " ('bayesian', 9),\n",
        " ('maximum likelihood estimate', 9),\n",
        " ('random number', 12),\n",
        " ('possible outcomes', 12),\n",
        " ('gaussian', 12)]"
      ]
    },
    {
      "cell_type": "code",
      "source": [
        "#lecture 04\n",
        "# total 988\n",
        "l4 = [\n",
        " ('new data', 3),\n",
        " ('iid', 3),\n",
        " ('joint distribution', 3),\n",
        " ('neural network', 3),\n",
        " ('automatic differentiation', 3),\n",
        " ('deep neural networks', 3),\n",
        " ('gaussians', 3),\n",
        " ('bootstrap', 3),\n",
        " ('bootstrap estimate', 3),\n",
        " ('treatment arm', 3),\n",
        " ('bayes', 4),\n",
        " ('data points', 4),\n",
        " ('original data', 4),\n",
        " ('control trial', 5),\n",
        " ('probability distribution', 5),\n",
        " ('square root', 5),\n",
        " ('python', 6),\n",
        " ('correct value', 6),\n",
        " ('maximum likelihood estimates', 6),\n",
        " ('binomial distribution', 7),\n",
        " ('true value', 7),\n",
        " ('treatment group', 8),\n",
        " ('vaccine efficacy', 9),\n",
        " ('point estimate', 9),\n",
        " ('standard deviation', 9),\n",
        " ('score function', 10),\n",
        " ('bayesian', 12),\n",
        " ('taylor', 12),\n",
        " ('control group', 13),\n",
        " ('laplace', 13),\n",
        " ('information matrix', 15),\n",
        " ('log likelihood', 16),\n",
        " ('maximum likelihood estimate', 19),\n",
        " ('fisher', 28),\n",
        " ('gaussian', 36)]"
      ],
      "metadata": {
        "id": "XrCI7RFFSATD"
      },
      "execution_count": 47,
      "outputs": []
    },
    {
      "cell_type": "code",
      "execution_count": 46,
      "metadata": {
        "id": "3ZI57SgYCBww"
      },
      "outputs": [],
      "source": [
        "# Lecture 05\n",
        "# 874\n",
        "l5 = [('true positive rate', 2),\n",
        " ('false positive rate', 2),\n",
        " ('qr', 2),\n",
        " ('base explanation', 3),\n",
        " ('possible explanation', 3),\n",
        " ('iid', 3),\n",
        " ('control group', 3),\n",
        " ('study protocol', 3),\n",
        " ('exact test', 3),\n",
        " ('probability f.', 3),\n",
        " ('unknown variable f', 3),\n",
        " ('power times', 3),\n",
        " ('classification algorithms', 3),\n",
        " ('vaccine efficacy', 4),\n",
        " ('treatment group', 4),\n",
        " ('machine learning', 4),\n",
        " ('control trial', 5),\n",
        " ('rejection region', 5),\n",
        " ('beta distribution', 5),\n",
        " ('mt', 5),\n",
        " ('p values', 5),\n",
        " ('roc', 5),\n",
        " ('fisher', 6),\n",
        " ('treatment arm', 6),\n",
        " ('control arm', 9),\n",
        " ('bayesian', 11),\n",
        " ('gaussian', 11),\n",
        " ('p value', 11),\n",
        " ('mc', 12),\n",
        " ('null hypothesis', 23)]"
      ]
    },
    {
      "cell_type": "code",
      "source": [
        "# lecture 06\n",
        "# total 824\n",
        "l6 = [('interactive process', 2),\n",
        " ('exploratory analysis', 2),\n",
        " ('brain activity', 3),\n",
        " ('design matrix', 3),\n",
        " ('nature', 3),\n",
        " ('neural network', 3),\n",
        " ('machine learning view', 3),\n",
        " ('nonlinear function', 3),\n",
        " ('unit variance', 3),\n",
        " ('unit variants', 3),\n",
        " ('model complexity', 3),\n",
        " ('hypothesis test', 3),\n",
        " ('difficult task', 3),\n",
        " ('regularization term', 3),\n",
        " ('training error', 3),\n",
        " ('statistical view', 3),\n",
        " ('variance sigma', 3),\n",
        " ('maximum likelihood estimation', 3),\n",
        " ('log likelihood', 3),\n",
        " ('maximum likelihood estimate', 3),\n",
        " ('hypothesis tests', 3),\n",
        " ('regression coefficients', 3),\n",
        " ('full posterior distribution', 3),\n",
        " ('posterior covariance', 3),\n",
        " ('bad assumptions', 3),\n",
        " ('clinical trials', 3),\n",
        " ('regression problem', 4),\n",
        " ('different parameters', 4),\n",
        " ('regression models', 5),\n",
        " ('linear function', 5),\n",
        " ('null hypothesis', 5),\n",
        " ('posterior distribution', 5),\n",
        " ('linear models', 6),\n",
        " ('linear model', 6),\n",
        " ('machine learning', 9),\n",
        " ('pca', 10),\n",
        " ('bayesian', 16),\n",
        " ('linear regression', 35),\n",
        " ('gaussian', 44)]"
      ],
      "metadata": {
        "id": "gn4QHrgCTv_a"
      },
      "execution_count": 45,
      "outputs": []
    },
    {
      "cell_type": "code",
      "execution_count": 44,
      "metadata": {
        "id": "qx9SjCNVAzs7"
      },
      "outputs": [],
      "source": [
        "#Lecture 07\n",
        "# 870 noun phrases in total\n",
        "l7 = [('binary distribution', 3),\n",
        " ('regression function', 3),\n",
        " ('% probability', 3),\n",
        " ('negative log likelihood', 3),\n",
        " ('log probability', 3),\n",
        " ('odds ratios', 3),\n",
        " ('poisson', 3),\n",
        " ('decision surface', 4),\n",
        " ('binary outcomes', 4),\n",
        " ('bernoulli', 4),\n",
        " ('average weight', 4),\n",
        " ('linear regression model', 4),\n",
        " ('causal link', 5),\n",
        " ('exponential family', 5),\n",
        " ('maximum likelihood estimation', 6),\n",
        " ('bayesian', 6),\n",
        " ('link function', 6),\n",
        " ('linear model', 8),\n",
        " ('omega', 9),\n",
        " ('regression model', 10),\n",
        " ('nonlinear function', 10),\n",
        " ('log likelihood', 11),\n",
        " ('linear regression', 17),\n",
        " ('linear function', 19),\n",
        " ('logistic regression', 28),\n",
        " ('gaussian', 31),]"
      ]
    },
    {
      "cell_type": "code",
      "execution_count": 43,
      "metadata": {
        "id": "opfS8VEeCjRx"
      },
      "outputs": [],
      "source": [
        "#lecture 8\n",
        "#total 980\n",
        "l8 = [('who', 3),\n",
        " ('generative dimensionality reduction', 3),\n",
        " ('orthonormal basis', 3),\n",
        " ('inner derivative', 3),\n",
        " ('optimal choice', 3),\n",
        " ('svd', 3),\n",
        " ('low dimensional representation', 3),\n",
        " ('geoff hinton', 3),\n",
        " ('global structure', 3),\n",
        " ('tc', 3),\n",
        " ('qr', 4),\n",
        " ('quadratic loss', 4),\n",
        " ('loss function', 4),\n",
        " ('reconstruction error', 4),\n",
        " ('singular value decomposition', 4),\n",
        " ('standard deviation', 4),\n",
        " ('dimensionality reduction', 5),\n",
        " ('low dimensional space', 5),\n",
        " ('eigen', 5),\n",
        " ('euclidean', 5),\n",
        " ('gaussian', 7),\n",
        " ('fisher', 7),\n",
        " ('lda', 8),\n",
        " ('principal components', 11),\n",
        " ('dimensional space', 16),\n",
        " ('high dimensional space', 17),\n",
        " ('pca', 44)]"
      ]
    },
    {
      "cell_type": "code",
      "source": [
        "#lecture 09\n",
        "# total 1003\n",
        "l9 = [('black box', 2),\n",
        " ('rc', 2),\n",
        " ('random classifier', 2),\n",
        " ('blue group', 2),\n",
        " ('blue classifier', 2),\n",
        " ('eigen', 3),\n",
        " ('original data', 3),\n",
        " ('svd', 3),\n",
        " ('deep learning', 3),\n",
        " ('machine learning engineer', 3),\n",
        " ('classification algorithm', 3),\n",
        " ('true label', 3),\n",
        " ('false positive rate', 3),\n",
        " ('fairness criteria', 3),\n",
        " ('machine learning', 4),\n",
        " ('who', 5),\n",
        " ('p value', 5),\n",
        " ('delta', 5),\n",
        " ('reconstruction error', 5),\n",
        " ('average reconstruction error', 5),\n",
        " ('standard deviation', 5),\n",
        " ('sensitive attributes', 6),\n",
        " ('group membership', 6),\n",
        " ('ai', 9),\n",
        " ('principal components', 10),\n",
        " ('pca', 28),\n",
        " ('okay', 40)]"
      ],
      "metadata": {
        "id": "ZkNqphDdRVMC"
      },
      "execution_count": 42,
      "outputs": []
    },
    {
      "cell_type": "code",
      "source": [
        "#lecture 10\n",
        "# total 1100\n",
        "l10 = [\n",
        " ('co2 production', 3),\n",
        " ('people disagree', 3),\n",
        " ('phone chargers', 3),\n",
        " ('electricity production', 3),\n",
        " ('good news', 3),\n",
        " ('different sources', 3),\n",
        " ('renewable energy', 3),\n",
        " ('energy footprint', 3),\n",
        " ('data centers', 3),\n",
        " ('uses electricity', 3),\n",
        " ('power consumption', 3),\n",
        " ('gpu', 3),\n",
        " ('phd', 3),\n",
        " ('virtual reality', 3),\n",
        " ('git', 3),\n",
        " ('pdf', 4),\n",
        " ('api', 4),\n",
        " ('youtube', 4),\n",
        " ('electricity consumption', 4),\n",
        " ('digital technology', 4),\n",
        " ('watt', 4),\n",
        " ('gpus', 4),\n",
        " ('data analysis', 4),\n",
        " ('china', 5),\n",
        " ('megawatt hours', 5),\n",
        " ('computer science', 6),\n",
        " ('machine learning', 6),\n",
        " ('corona', 6),\n",
        " ('co2 footprint', 6),\n",
        " ('digital devices', 6),\n",
        " ('watts', 6),\n",
        " ('zoom', 6),\n",
        " ('energy consumption', 7),\n",
        " ('kilowatt hours', 10),\n",
        " ('co2 emissions', 12),\n",
        " ('ai', 20),\n",
        " ('germany', 26)]"
      ],
      "metadata": {
        "id": "AtCt-n8RSzoi"
      },
      "execution_count": 41,
      "outputs": []
    },
    {
      "cell_type": "code",
      "execution_count": 40,
      "metadata": {
        "id": "uEuOA_cyBj6t"
      },
      "outputs": [],
      "source": [
        "# Lecture 11\n",
        "# 966 total\n",
        "l11 = [('unit tests', 2),\n",
        " ('% confidence', 2),\n",
        " ('design process', 3),\n",
        " ('open science', 3),\n",
        " ('real world', 3),\n",
        " ('involves data', 3),\n",
        " ('software engineering', 3),\n",
        " ('machine learning algorithm', 3),\n",
        " ('neural network', 3),\n",
        " ('pdfs', 4),\n",
        " ('deep neural network', 5),\n",
        " ('pdf', 7),\n",
        " ('github', 7),\n",
        " ('ai', 8),\n",
        " ('machine learning', 8),\n",
        " ('git', 23)]"
      ]
    },
    {
      "cell_type": "code",
      "source": [
        "# lecture 12\n",
        "#total 830\n",
        "l12 = [('age groups', 2),\n",
        " ('test error', 2),\n",
        " ('x space', 2),\n",
        " ('grayscale value', 2),\n",
        " ('color scheme', 2),\n",
        " ('gamma correction', 2),\n",
        " ('visual representations', 3),\n",
        " ('fineman', 3),\n",
        " ('confidence intervals', 3),\n",
        " ('exponential function', 3),\n",
        " ('times log', 3),\n",
        " ('log log plot', 3),\n",
        " ('functional relationship', 3),\n",
        " ('standard deviation', 3),\n",
        " ('rgb', 3),\n",
        " ('gray scale', 3),\n",
        " ('square root', 3),\n",
        " ('color maps', 3),\n",
        " ('log linear plot', 4),\n",
        " ('power law', 4),\n",
        " ('pdf', 6),\n",
        " ('gaussian', 9)]"
      ],
      "metadata": {
        "id": "Al8LinM2TP86"
      },
      "execution_count": 75,
      "outputs": []
    },
    {
      "cell_type": "code",
      "execution_count": null,
      "metadata": {
        "id": "yuw6zh77AhDL"
      },
      "outputs": [],
      "source": [
        "blob = TextBlob(lectures[7])\n",
        "freq = nltk.FreqDist(blob.noun_phrases)\n",
        "freq = sorted(freq.items(), key=lambda item: item[1])\n",
        "freq[-50:]\n"
      ]
    },
    {
      "cell_type": "code",
      "execution_count": 26,
      "metadata": {
        "colab": {
          "base_uri": "https://localhost:8080/"
        },
        "id": "Ln3V9croBV5e",
        "outputId": "452ac73c-73db-44ff-ccb2-cc1c5c106933"
      },
      "outputs": [
        {
          "output_type": "execute_result",
          "data": {
            "text/plain": [
              "824"
            ]
          },
          "metadata": {},
          "execution_count": 26
        }
      ],
      "source": [
        "len(blob.noun_phrases)"
      ]
    },
    {
      "cell_type": "code",
      "execution_count": 12,
      "metadata": {
        "id": "dDu7orPREfUG",
        "colab": {
          "base_uri": "https://localhost:8080/"
        },
        "outputId": "6941d1b7-fe93-4260-f106-6d5499e416f8"
      },
      "outputs": [
        {
          "output_type": "execute_result",
          "data": {
            "text/plain": [
              "['Lecture_09.txt',\n",
              " 'Lecture_07.txt',\n",
              " 'Lecture_04.txt',\n",
              " 'Lecture_02.txt',\n",
              " 'Lecture_10.txt',\n",
              " 'Lecture_12.txt',\n",
              " 'Lecture_08.txt',\n",
              " 'Lecture_06.txt',\n",
              " 'Lecture_05.txt',\n",
              " 'Lecture_11.txt',\n",
              " 'Lecture_03.txt']"
            ]
          },
          "metadata": {},
          "execution_count": 12
        }
      ],
      "source": [
        "a"
      ]
    },
    {
      "cell_type": "markdown",
      "source": [
        "## Plots"
      ],
      "metadata": {
        "id": "LPi5IxkFjJDu"
      }
    },
    {
      "cell_type": "code",
      "source": [
        "plt.figure(figsize =(12, 12))\n",
        "l = np.array(l12)\n",
        "# sns.set_style(\"darkgrid\")\n",
        "#plt.xlim([0, 9])\n",
        "plt.barh(l[:,0], l[:,1])"
      ],
      "metadata": {
        "colab": {
          "base_uri": "https://localhost:8080/",
          "height": 720
        },
        "id": "vVOxnyNWoj63",
        "outputId": "0e02807f-99ac-480d-9d6b-6cd128bc173e"
      },
      "execution_count": 102,
      "outputs": [
        {
          "output_type": "execute_result",
          "data": {
            "text/plain": [
              "<BarContainer object of 22 artists>"
            ]
          },
          "metadata": {},
          "execution_count": 102
        },
        {
          "output_type": "display_data",
          "data": {
            "image/png": "[encoded data removed]",
            "text/plain": [
              "<Figure size 864x864 with 1 Axes>"
            ]
          },
          "metadata": {}
        }
      ]
    },
    {
      "cell_type": "code",
      "source": [
        "plt.figure(figsize =(12, 12))\n",
        "l = np.array(l12)\n",
        "sns.set_style(\"darkgrid\")\n",
        "#plt.xlim([0, 9])\n",
        "plt.barh(l[:,0], l[:,1])"
      ],
      "metadata": {
        "colab": {
          "base_uri": "https://localhost:8080/",
          "height": 720
        },
        "id": "pHlzOl2Nj5Iu",
        "outputId": "24b10600-e08c-4bc4-86b1-2d8bc373cdf7"
      },
      "execution_count": 100,
      "outputs": [
        {
          "output_type": "execute_result",
          "data": {
            "text/plain": [
              "<BarContainer object of 22 artists>"
            ]
          },
          "metadata": {},
          "execution_count": 100
        },
        {
          "output_type": "display_data",
          "data": {
            "image/png": "[encoded data removed]",
            "text/plain": [
              "<Figure size 864x864 with 1 Axes>"
            ]
          },
          "metadata": {}
        }
      ]
    },
    {
      "cell_type": "code",
      "source": [
        "import pandas as pd\n",
        "x = list(l[:,0])\n",
        "y =  list(l[:,1])\n",
        "y = [int(k) for k in y]\n",
        "d = {'x': x, 'y': y}\n",
        "pdnumsqr = pd.DataFrame(d).explode(\"y\")\n",
        "pdnumsqr['y'] = pdnumsqr['y'].astype('int')"
      ],
      "metadata": {
        "id": "91i3yyqaknYq"
      },
      "execution_count": 91,
      "outputs": []
    },
    {
      "cell_type": "code",
      "source": [
        "import seaborn as sns\n",
        "import matplotlib.pyplot as plt\n",
        "sns.set_theme(style=\"whitegrid\")\n",
        "\n",
        "# Initialize the matplotlib figure\n",
        "f, ax = plt.subplots(figsize=(6, 15))\n",
        "\n",
        "\n",
        "\n",
        "# Plot the total crashes\n",
        "sns.set_color_codes(\"pastel\")\n",
        "sns.barplot(x=\"x\", y=\"x\", data=pdnumsqr,\n",
        "            label=\"Total\", color=\"b\")\n",
        "\n",
        "\n",
        "# Add a legend and informative axis label\n",
        "ax.legend(ncol=2, loc=\"lower right\", frameon=True)\n",
        "ax.set(xlim=(0, 24), ylabel=\"\",\n",
        "       xlabel=\"Automobile collisions per billion miles\")\n",
        "sns.despine(left=True, bottom=True)"
      ],
      "metadata": {
        "colab": {
          "base_uri": "https://localhost:8080/",
          "height": 1000
        },
        "id": "sazo0PoajM7X",
        "outputId": "084e33ad-c020-4125-f07c-b526e765c2a8"
      },
      "execution_count": 92,
      "outputs": [
        {
          "output_type": "error",
          "ename": "TypeError",
          "evalue": "ignored",
          "traceback": [
            "\u001b[0;31m---------------------------------------------------------------------------\u001b[0m",
            "\u001b[0;31mTypeError\u001b[0m                                 Traceback (most recent call last)",
            "\u001b[0;32m<ipython-input-92-feebe43f3e72>\u001b[0m in \u001b[0;36m<module>\u001b[0;34m()\u001b[0m\n\u001b[1;32m     11\u001b[0m \u001b[0msns\u001b[0m\u001b[0;34m.\u001b[0m\u001b[0mset_color_codes\u001b[0m\u001b[0;34m(\u001b[0m\u001b[0;34m\"pastel\"\u001b[0m\u001b[0;34m)\u001b[0m\u001b[0;34m\u001b[0m\u001b[0;34m\u001b[0m\u001b[0m\n\u001b[1;32m     12\u001b[0m sns.barplot(x=\"x\", y=\"x\", data=pdnumsqr,\n\u001b[0;32m---> 13\u001b[0;31m             label=\"Total\", color=\"b\")\n\u001b[0m\u001b[1;32m     14\u001b[0m \u001b[0;34m\u001b[0m\u001b[0m\n\u001b[1;32m     15\u001b[0m \u001b[0;34m\u001b[0m\u001b[0m\n",
            "\u001b[0;32m/usr/local/lib/python3.7/dist-packages/seaborn/_decorators.py\u001b[0m in \u001b[0;36minner_f\u001b[0;34m(*args, **kwargs)\u001b[0m\n\u001b[1;32m     44\u001b[0m             )\n\u001b[1;32m     45\u001b[0m         \u001b[0mkwargs\u001b[0m\u001b[0;34m.\u001b[0m\u001b[0mupdate\u001b[0m\u001b[0;34m(\u001b[0m\u001b[0;34m{\u001b[0m\u001b[0mk\u001b[0m\u001b[0;34m:\u001b[0m \u001b[0marg\u001b[0m \u001b[0;32mfor\u001b[0m \u001b[0mk\u001b[0m\u001b[0;34m,\u001b[0m \u001b[0marg\u001b[0m \u001b[0;32min\u001b[0m \u001b[0mzip\u001b[0m\u001b[0;34m(\u001b[0m\u001b[0msig\u001b[0m\u001b[0;34m.\u001b[0m\u001b[0mparameters\u001b[0m\u001b[0;34m,\u001b[0m \u001b[0margs\u001b[0m\u001b[0;34m)\u001b[0m\u001b[0;34m}\u001b[0m\u001b[0;34m)\u001b[0m\u001b[0;34m\u001b[0m\u001b[0;34m\u001b[0m\u001b[0m\n\u001b[0;32m---> 46\u001b[0;31m         \u001b[0;32mreturn\u001b[0m \u001b[0mf\u001b[0m\u001b[0;34m(\u001b[0m\u001b[0;34m**\u001b[0m\u001b[0mkwargs\u001b[0m\u001b[0;34m)\u001b[0m\u001b[0;34m\u001b[0m\u001b[0;34m\u001b[0m\u001b[0m\n\u001b[0m\u001b[1;32m     47\u001b[0m     \u001b[0;32mreturn\u001b[0m \u001b[0minner_f\u001b[0m\u001b[0;34m\u001b[0m\u001b[0;34m\u001b[0m\u001b[0m\n\u001b[1;32m     48\u001b[0m \u001b[0;34m\u001b[0m\u001b[0m\n",
            "\u001b[0;32m/usr/local/lib/python3.7/dist-packages/seaborn/categorical.py\u001b[0m in \u001b[0;36mbarplot\u001b[0;34m(x, y, hue, data, order, hue_order, estimator, ci, n_boot, units, seed, orient, color, palette, saturation, errcolor, errwidth, capsize, dodge, ax, **kwargs)\u001b[0m\n\u001b[1;32m   3183\u001b[0m                           \u001b[0mestimator\u001b[0m\u001b[0;34m,\u001b[0m \u001b[0mci\u001b[0m\u001b[0;34m,\u001b[0m \u001b[0mn_boot\u001b[0m\u001b[0;34m,\u001b[0m \u001b[0munits\u001b[0m\u001b[0;34m,\u001b[0m \u001b[0mseed\u001b[0m\u001b[0;34m,\u001b[0m\u001b[0;34m\u001b[0m\u001b[0;34m\u001b[0m\u001b[0m\n\u001b[1;32m   3184\u001b[0m                           \u001b[0morient\u001b[0m\u001b[0;34m,\u001b[0m \u001b[0mcolor\u001b[0m\u001b[0;34m,\u001b[0m \u001b[0mpalette\u001b[0m\u001b[0;34m,\u001b[0m \u001b[0msaturation\u001b[0m\u001b[0;34m,\u001b[0m\u001b[0;34m\u001b[0m\u001b[0;34m\u001b[0m\u001b[0m\n\u001b[0;32m-> 3185\u001b[0;31m                           errcolor, errwidth, capsize, dodge)\n\u001b[0m\u001b[1;32m   3186\u001b[0m \u001b[0;34m\u001b[0m\u001b[0m\n\u001b[1;32m   3187\u001b[0m     \u001b[0;32mif\u001b[0m \u001b[0max\u001b[0m \u001b[0;32mis\u001b[0m \u001b[0;32mNone\u001b[0m\u001b[0;34m:\u001b[0m\u001b[0;34m\u001b[0m\u001b[0;34m\u001b[0m\u001b[0m\n",
            "\u001b[0;32m/usr/local/lib/python3.7/dist-packages/seaborn/categorical.py\u001b[0m in \u001b[0;36m__init__\u001b[0;34m(self, x, y, hue, data, order, hue_order, estimator, ci, n_boot, units, seed, orient, color, palette, saturation, errcolor, errwidth, capsize, dodge)\u001b[0m\n\u001b[1;32m   1583\u001b[0m         \u001b[0;34m\"\"\"Initialize the plotter.\"\"\"\u001b[0m\u001b[0;34m\u001b[0m\u001b[0;34m\u001b[0m\u001b[0m\n\u001b[1;32m   1584\u001b[0m         self.establish_variables(x, y, hue, data, orient,\n\u001b[0;32m-> 1585\u001b[0;31m                                  order, hue_order, units)\n\u001b[0m\u001b[1;32m   1586\u001b[0m         \u001b[0mself\u001b[0m\u001b[0;34m.\u001b[0m\u001b[0mestablish_colors\u001b[0m\u001b[0;34m(\u001b[0m\u001b[0mcolor\u001b[0m\u001b[0;34m,\u001b[0m \u001b[0mpalette\u001b[0m\u001b[0;34m,\u001b[0m \u001b[0msaturation\u001b[0m\u001b[0;34m)\u001b[0m\u001b[0;34m\u001b[0m\u001b[0;34m\u001b[0m\u001b[0m\n\u001b[1;32m   1587\u001b[0m         \u001b[0mself\u001b[0m\u001b[0;34m.\u001b[0m\u001b[0mestimate_statistic\u001b[0m\u001b[0;34m(\u001b[0m\u001b[0mestimator\u001b[0m\u001b[0;34m,\u001b[0m \u001b[0mci\u001b[0m\u001b[0;34m,\u001b[0m \u001b[0mn_boot\u001b[0m\u001b[0;34m,\u001b[0m \u001b[0mseed\u001b[0m\u001b[0;34m)\u001b[0m\u001b[0;34m\u001b[0m\u001b[0;34m\u001b[0m\u001b[0m\n",
            "\u001b[0;32m/usr/local/lib/python3.7/dist-packages/seaborn/categorical.py\u001b[0m in \u001b[0;36mestablish_variables\u001b[0;34m(self, x, y, hue, data, orient, order, hue_order, units)\u001b[0m\n\u001b[1;32m    155\u001b[0m             \u001b[0;31m# Figure out the plotting orientation\u001b[0m\u001b[0;34m\u001b[0m\u001b[0;34m\u001b[0m\u001b[0;34m\u001b[0m\u001b[0m\n\u001b[1;32m    156\u001b[0m             orient = infer_orient(\n\u001b[0;32m--> 157\u001b[0;31m                 \u001b[0mx\u001b[0m\u001b[0;34m,\u001b[0m \u001b[0my\u001b[0m\u001b[0;34m,\u001b[0m \u001b[0morient\u001b[0m\u001b[0;34m,\u001b[0m \u001b[0mrequire_numeric\u001b[0m\u001b[0;34m=\u001b[0m\u001b[0mself\u001b[0m\u001b[0;34m.\u001b[0m\u001b[0mrequire_numeric\u001b[0m\u001b[0;34m\u001b[0m\u001b[0;34m\u001b[0m\u001b[0m\n\u001b[0m\u001b[1;32m    158\u001b[0m             )\n\u001b[1;32m    159\u001b[0m \u001b[0;34m\u001b[0m\u001b[0m\n",
            "\u001b[0;32m/usr/local/lib/python3.7/dist-packages/seaborn/_core.py\u001b[0m in \u001b[0;36minfer_orient\u001b[0;34m(x, y, orient, require_numeric)\u001b[0m\n\u001b[1;32m   1350\u001b[0m     \u001b[0;32melif\u001b[0m \u001b[0mrequire_numeric\u001b[0m \u001b[0;32mand\u001b[0m \u001b[0;34m\"numeric\"\u001b[0m \u001b[0;32mnot\u001b[0m \u001b[0;32min\u001b[0m \u001b[0;34m(\u001b[0m\u001b[0mx_type\u001b[0m\u001b[0;34m,\u001b[0m \u001b[0my_type\u001b[0m\u001b[0;34m)\u001b[0m\u001b[0;34m:\u001b[0m\u001b[0;34m\u001b[0m\u001b[0;34m\u001b[0m\u001b[0m\n\u001b[1;32m   1351\u001b[0m         \u001b[0merr\u001b[0m \u001b[0;34m=\u001b[0m \u001b[0;34m\"Neither the `x` nor `y` variable appears to be numeric.\"\u001b[0m\u001b[0;34m\u001b[0m\u001b[0;34m\u001b[0m\u001b[0m\n\u001b[0;32m-> 1352\u001b[0;31m         \u001b[0;32mraise\u001b[0m \u001b[0mTypeError\u001b[0m\u001b[0;34m(\u001b[0m\u001b[0merr\u001b[0m\u001b[0;34m)\u001b[0m\u001b[0;34m\u001b[0m\u001b[0;34m\u001b[0m\u001b[0m\n\u001b[0m\u001b[1;32m   1353\u001b[0m \u001b[0;34m\u001b[0m\u001b[0m\n\u001b[1;32m   1354\u001b[0m     \u001b[0;32melse\u001b[0m\u001b[0;34m:\u001b[0m\u001b[0;34m\u001b[0m\u001b[0;34m\u001b[0m\u001b[0m\n",
            "\u001b[0;31mTypeError\u001b[0m: Neither the `x` nor `y` variable appears to be numeric."
          ]
        },
        {
          "output_type": "display_data",
          "data": {
            "image/png": "[encoded data removed]",
            "text/plain": [
              "<Figure size 432x1080 with 1 Axes>"
            ]
          },
          "metadata": {}
        }
      ]
    },
    {
      "cell_type": "markdown",
      "source": [
        "# Entropy"
      ],
      "metadata": {
        "id": "noifgXw-dh1L"
      }
    },
    {
      "cell_type": "markdown",
      "source": [
        "# text complexity\n",
        "```\n",
        "\n"
      ],
      "metadata": {
        "id": "RpWlwlsNd3Ys"
      }
    },
    {
      "cell_type": "code",
      "source": [
        "ls = [l2,l3,l4,l5,l6,l7,l8,l9,l10,l11,l12]"
      ],
      "metadata": {
        "id": "DA5pbXcIdnrO"
      },
      "execution_count": 50,
      "outputs": []
    },
    {
      "cell_type": "code",
      "source": [
        "ls = [l9,l7,l4,l2,l10,l12,l8,l6,l5,l11,l3]"
      ],
      "metadata": {
        "id": "ua2HG_WkeVrU"
      },
      "execution_count": 52,
      "outputs": []
    },
    {
      "cell_type": "code",
      "source": [
        "import numpy as np\n",
        "\n",
        "for l in ls:\n",
        "  total = sum([e[1] for e in l])\n",
        "  entropy = -1* sum([e[1]/total * np.log(e[1]/total) for e in l])\n",
        "  print(entropy)"
      ],
      "metadata": {
        "colab": {
          "base_uri": "https://localhost:8080/"
        },
        "id": "p6tsd1JHdkGh",
        "outputId": "51506435-6874-4b53-ca8c-20568c4d7bb3"
      },
      "execution_count": 53,
      "outputs": [
        {
          "output_type": "stream",
          "name": "stdout",
          "text": [
            "2.808850151030807\n",
            "2.9422174288132155\n",
            "3.2750206905352717\n",
            "2.772981572728279\n",
            "3.375774373215576\n",
            "3.0023454902930804\n",
            "2.890459103838369\n",
            "3.15652836109251\n",
            "3.175611494795198\n",
            "2.4881381472644417\n",
            "3.1638333511661747\n"
          ]
        }
      ]
    },
    {
      "cell_type": "code",
      "source": [
        "!pip install textstat\n",
        "import textstat"
      ],
      "metadata": {
        "id": "isS8baT3em2u"
      },
      "execution_count": null,
      "outputs": []
    },
    {
      "cell_type": "code",
      "source": [
        "for l in lectures:\n",
        "  print(textstat.flesch_reading_ease(l))"
      ],
      "metadata": {
        "colab": {
          "base_uri": "https://localhost:8080/"
        },
        "id": "RFjcYvY4eACa",
        "outputId": "ddc3133e-81e5-4b3b-a40c-d3623ef296c8"
      },
      "execution_count": 55,
      "outputs": [
        {
          "output_type": "stream",
          "name": "stdout",
          "text": [
            "69.11\n",
            "68.6\n",
            "69.62\n",
            "70.63\n",
            "66.37\n",
            "79.19\n",
            "70.53\n",
            "66.98\n",
            "68.3\n",
            "74.73\n",
            "69.72\n"
          ]
        }
      ]
    },
    {
      "cell_type": "code",
      "source": [
        "for l in lectures:\n",
        "  print(textstat.automated_readability_index(l))"
      ],
      "metadata": {
        "colab": {
          "base_uri": "https://localhost:8080/"
        },
        "id": "eTe5Nante44b",
        "outputId": "f40ec2b3-164f-4041-92e7-e8368559176a"
      },
      "execution_count": 57,
      "outputs": [
        {
          "output_type": "stream",
          "name": "stdout",
          "text": [
            "8.9\n",
            "9.3\n",
            "8.9\n",
            "7.6\n",
            "10.4\n",
            "7.6\n",
            "8.1\n",
            "10.4\n",
            "9.3\n",
            "10.2\n",
            "8.8\n"
          ]
        }
      ]
    },
    {
      "cell_type": "code",
      "source": [
        "\n",
        "for l in lectures:\n",
        "  print(textstat.flesch_kincaid_grade(l))"
      ],
      "metadata": {
        "colab": {
          "base_uri": "https://localhost:8080/"
        },
        "id": "L-xv2jDbf0kv",
        "outputId": "ebddbbdb-ae5d-45e8-b2be-c7523c8c4148"
      },
      "execution_count": 58,
      "outputs": [
        {
          "output_type": "stream",
          "name": "stdout",
          "text": [
            "8.3\n",
            "8.5\n",
            "8.1\n",
            "7.8\n",
            "9.4\n",
            "6.5\n",
            "7.8\n",
            "9.2\n",
            "8.7\n",
            "8.3\n",
            "8.1\n"
          ]
        }
      ]
    },
    {
      "cell_type": "code",
      "source": [
        "['Lecture_09.txt',\n",
        " 'Lecture_07.txt',\n",
        " 'Lecture_04.txt',\n",
        " 'Lecture_02.txt',\n",
        " 'Lecture_10.txt',\n",
        " 'Lecture_12.txt',\n",
        " 'Lecture_08.txt',\n",
        " 'Lecture_06.txt',\n",
        " 'Lecture_05.txt',\n",
        " 'Lecture_11.txt',\n",
        " 'Lecture_03.txt']"
      ],
      "metadata": {
        "id": "AFTUhu0eeVMx"
      },
      "execution_count": null,
      "outputs": []
    },
    {
      "cell_type": "markdown",
      "source": [
        "# New Section"
      ],
      "metadata": {
        "id": "hWKFK6C-N9lw"
      }
    },
    {
      "cell_type": "markdown",
      "metadata": {
        "id": "n96KWTmJEfUG"
      },
      "source": [
        "The aim is to get a better impression of overall term frequency of topic related nouns. Therefore we reduce nouns which do not contain any information about lecture topics. We do this by selecting such terms, which are often just phrases or transcription mistakes (like 'll), from the 50 most spoken nouns by hand. "
      ]
    },
    {
      "cell_type": "code",
      "execution_count": null,
      "metadata": {
        "id": "EknF1JafEfUH"
      },
      "outputs": [],
      "source": [
        "import numpy as np\n",
        "import seaborn as sns"
      ]
    },
    {
      "cell_type": "code",
      "execution_count": null,
      "metadata": {
        "id": "ZmzlLrovEfUH"
      },
      "outputs": [],
      "source": [
        "overall_highest = sorted(nltk.FreqDist(blob.noun_phrases).items(),key=lambda item: item[1])[-50:]"
      ]
    },
    {
      "cell_type": "code",
      "execution_count": null,
      "metadata": {
        "id": "-ro78wceEfUI"
      },
      "outputs": [],
      "source": [
        "exclude = ['thanks', 'omicron', 'possible outcomes' 'good thing', 'zoom', 'qr', \"'ll talk\", 'uk', 'good idea',\n",
        "           'square root', 'alright', \"n't work\", 'phd', \"'s kind\", 'oh', 'germany', \"ca n't\", 'well', 'yeah',\n",
        "           'right', 'okay']"
      ]
    },
    {
      "cell_type": "code",
      "execution_count": null,
      "metadata": {
        "scrolled": true,
        "id": "gSSy3D8yEfUI",
        "outputId": "bbd2963c-96ce-4e2a-8a79-98d20bc41647"
      },
      "outputs": [
        {
          "data": {
            "text/plain": [
              "[('nonlinear function', 14),\n",
              " ('information matrix', 15),\n",
              " ('linear model', 15),\n",
              " ('possible outcomes', 16),\n",
              " ('monte carlo', 16),\n",
              " ('data points', 17),\n",
              " ('control group', 17),\n",
              " ('p value', 17),\n",
              " ('good thing', 18),\n",
              " ('laplace', 18),\n",
              " ('random number', 19),\n",
              " ('pdf', 19),\n",
              " ('dimensional space', 19),\n",
              " ('high dimensional space', 19),\n",
              " ('principal components', 21),\n",
              " ('git', 26),\n",
              " ('standard deviation', 28),\n",
              " ('linear function', 28),\n",
              " ('iid', 31),\n",
              " ('maximum likelihood estimate', 32),\n",
              " ('null hypothesis', 33),\n",
              " ('python', 34),\n",
              " ('machine learning', 35),\n",
              " ('log likelihood', 35),\n",
              " ('logistic regression', 35),\n",
              " ('ai', 40),\n",
              " ('fisher', 42),\n",
              " ('linear regression', 52),\n",
              " ('bayesian', 60),\n",
              " ('pca', 85),\n",
              " ('gaussian', 153)]"
            ]
          },
          "execution_count": 85,
          "metadata": {},
          "output_type": "execute_result"
        }
      ],
      "source": [
        "important_nouns = []\n",
        "for noun in overall_highest:\n",
        "    if noun[0] not in exclude:\n",
        "        important_nouns.append(noun)\n",
        "important_nouns = np.array(important_nouns)"
      ]
    },
    {
      "cell_type": "code",
      "execution_count": null,
      "metadata": {
        "id": "6tgKAgTKEfUI"
      },
      "outputs": [],
      "source": [
        "# Chart is super ugly, but this simple kind of visualisation could be nice for a overall overview\n",
        "# If we decide to put such a plot in the paper we can make this plot pretty nice I think\n",
        "plt.figure(figsize =(12, 12))\n",
        "plt.barh(important_nouns[:,0], important_nouns[:,1])"
      ]
    },
    {
      "cell_type": "code",
      "source": [
        ""
      ],
      "metadata": {
        "id": "1P53He2djt_A"
      },
      "execution_count": null,
      "outputs": []
    },
    {
      "cell_type": "code",
      "execution_count": null,
      "metadata": {
        "id": "vf72JLUJEfUJ"
      },
      "outputs": [],
      "source": [
        ""
      ]
    },
    {
      "cell_type": "code",
      "execution_count": null,
      "metadata": {
        "id": "fpIAr_5uEfUJ"
      },
      "outputs": [],
      "source": [
        ""
      ]
    },
    {
      "cell_type": "markdown",
      "metadata": {
        "id": "gaZpBcugEfUJ"
      },
      "source": [
        "Predicting the content of the exam:\n",
        "* Over all frequency gives us insights which topics seem to be important over all lectures\n",
        "    * For example Gaussian, Baysian are fundamentals of other topics, therefore they seem to be important for several topics and important to learn for the exam\n",
        "\n",
        "* Problem: Some terms like linear or logistic regression, maximum likelihood estimator are topics of specific lectures\n",
        "    * If the term logisitic regression gets mentioned extremly often in the logistic regression lecture, it does not mean that this lecture or topic is more important.\n",
        "    * Reasons for this assumption:\n",
        "        * not every lecture is held by mister Hennig. Different persons may have different styles of explaining and illustrating topics.\n",
        "        * To explain a specific topic one word could occur very often. If this topic is not relevant itself, the high frequency of the word has no power in answering our question.\n",
        "        \n",
        "\n",
        "To get another prediction of exam topics, we need to find a structure of a probability across lectures. This could emphasize basic knowledge behind the topics.\n",
        "\n",
        "Example if f.e. iid. would occur as a result, we would assume understanding iid and it's consequences to the data is crucial to understand the topics which are based on iid assumptions. \n"
      ]
    },
    {
      "cell_type": "code",
      "execution_count": null,
      "metadata": {
        "id": "p_cMaOqOEfUK"
      },
      "outputs": [],
      "source": [
        "lectures_dict = {}\n",
        "for file in os.listdir(\"Transcribes\"):\n",
        "    lectures_dict[re.sub(\"\\D\", \"\", file)] = read_text_file(os.path.join(\"Transcribes\", file))"
      ]
    },
    {
      "cell_type": "code",
      "execution_count": null,
      "metadata": {
        "id": "cX1D8DcBEfUL"
      },
      "outputs": [],
      "source": [
        "def token_frequency(blob):\n",
        "    freq = nltk.FreqDist(blob.noun_phrases)\n",
        "    freq = sorted(freq.items(), key=lambda item: item[1])\n",
        "    return freq"
      ]
    },
    {
      "cell_type": "code",
      "execution_count": null,
      "metadata": {
        "id": "-PDPjibYEfUL",
        "outputId": "c90664b6-66d6-4ff1-b10c-100342946bcd"
      },
      "outputs": [
        {
          "data": {
            "text/plain": [
              "[('exponential family', 5),\n",
              " ('yeah', 6),\n",
              " ('omega zero', 6),\n",
              " (\"ca n't\", 6),\n",
              " ('maximum likelihood estimation', 6),\n",
              " ('bayesian', 6),\n",
              " ('positive number', 6),\n",
              " ('link function', 6),\n",
              " ('alright', 8),\n",
              " ('linear model', 8),\n",
              " ('well', 9),\n",
              " ('omega', 9),\n",
              " ('regression model', 10),\n",
              " ('nonlinear function', 10),\n",
              " ('log likelihood', 11),\n",
              " ('linear regression', 17),\n",
              " ('linear function', 19),\n",
              " ('logistic regression', 28),\n",
              " ('gaussian', 31),\n",
              " ('okay', 89)]"
            ]
          },
          "execution_count": 115,
          "metadata": {},
          "output_type": "execute_result"
        }
      ],
      "source": [
        "# logistic regression lecture\n",
        "lec_7 = token_frequency(TextBlob(lectures_dict[\"07\"]))\n",
        "lec_7[-20:]"
      ]
    },
    {
      "cell_type": "code",
      "execution_count": null,
      "metadata": {
        "id": "9gOrYaWsEfUL",
        "outputId": "abae37ae-7c6d-4a45-c9b2-208869cba412"
      },
      "outputs": [
        {
          "data": {
            "text/plain": [
              "[('regression problem', 4),\n",
              " ('different parameters', 4),\n",
              " ('input x', 5),\n",
              " ('parameters omega', 5),\n",
              " ('regression models', 5),\n",
              " ('linear function', 5),\n",
              " ('peter', 5),\n",
              " ('null hypothesis', 5),\n",
              " ('posterior distribution', 5),\n",
              " ('linear models', 6),\n",
              " ('linear model', 6),\n",
              " ('right', 7),\n",
              " ('well', 8),\n",
              " ('machine learning', 9),\n",
              " ('alright', 10),\n",
              " ('pca', 10),\n",
              " ('bayesian', 16),\n",
              " ('linear regression', 35),\n",
              " ('gaussian', 44),\n",
              " ('okay', 63)]"
            ]
          },
          "execution_count": 120,
          "metadata": {},
          "output_type": "execute_result"
        }
      ],
      "source": [
        "# linear regression lecture\n",
        "lec_6 = token_frequency(TextBlob(lectures_dict[\"06\"]))\n",
        "lec_6[-20:]"
      ]
    },
    {
      "cell_type": "code",
      "execution_count": null,
      "metadata": {
        "id": "h_y1j0ATEfUM"
      },
      "outputs": [],
      "source": [
        ""
      ]
    },
    {
      "cell_type": "code",
      "execution_count": null,
      "metadata": {
        "id": "hJFtv5ASEfUM"
      },
      "outputs": [],
      "source": [
        ""
      ]
    },
    {
      "cell_type": "code",
      "execution_count": null,
      "metadata": {
        "id": "QJK3KXvtEfUN"
      },
      "outputs": [],
      "source": [
        ""
      ]
    }
  ],
  "metadata": {
    "colab": {
      "collapsed_sections": [
        "CovpFnO2x_Od",
        "KbczwHhX7R62",
        "WZxjjvnj865g",
        "LPi5IxkFjJDu",
        "RpWlwlsNd3Ys"
      ],
      "name": "WordFrequency.ipynb",
      "provenance": [],
      "include_colab_link": true
    },
    "kernelspec": {
      "display_name": "Python 3",
      "language": "python",
      "name": "python3"
    },
    "language_info": {
      "codemirror_mode": {
        "name": "ipython",
        "version": 3
      },
      "file_extension": ".py",
      "mimetype": "text/x-python",
      "name": "python",
      "nbconvert_exporter": "python",
      "pygments_lexer": "ipython3",
      "version": "3.6.5"
    }
  },
  "nbformat": 4,
  "nbformat_minor": 0
}