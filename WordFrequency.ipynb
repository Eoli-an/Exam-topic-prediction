{
 "cells": [
  {
   "cell_type": "markdown",
   "metadata": {
    "colab_type": "text",
    "id": "view-in-github"
   },
   "source": [
    "<a href=\"https://colab.research.google.com/github/Eoli-an/Exam-topic-prediction/blob/main/WordFrequency.ipynb\" target=\"_parent\"><img src=\"https://colab.research.google.com/assets/colab-badge.svg\" alt=\"Open In Colab\"/></a>"
   ]
  },
  {
   "cell_type": "markdown",
   "metadata": {
    "id": "xRoQ15RIxyTr"
   },
   "source": [
    "# Import Files"
   ]
  },
  {
   "cell_type": "code",
   "execution_count": 95,
   "metadata": {
    "colab": {
     "base_uri": "https://localhost:8080/"
    },
    "id": "VM6ZNhrtxh2a",
    "outputId": "35147593-c1bf-4bb3-bdd4-93dd68ed3d02"
   },
   "outputs": [
    {
     "name": "stderr",
     "output_type": "stream",
     "text": [
      "[nltk_data] Downloading package punkt to\n",
      "[nltk_data]     C:\\Users\\simon\\AppData\\Roaming\\nltk_data...\n",
      "[nltk_data]   Package punkt is already up-to-date!\n",
      "[nltk_data] Downloading package averaged_perceptron_tagger to\n",
      "[nltk_data]     C:\\Users\\simon\\AppData\\Roaming\\nltk_data...\n",
      "[nltk_data]   Package averaged_perceptron_tagger is already up-to-\n",
      "[nltk_data]       date!\n",
      "[nltk_data] Downloading package brown to\n",
      "[nltk_data]     C:\\Users\\simon\\AppData\\Roaming\\nltk_data...\n",
      "[nltk_data]   Package brown is already up-to-date!\n"
     ]
    }
   ],
   "source": [
    "import os\n",
    "import nltk\n",
    "from textblob import TextBlob\n",
    "nltk.download('punkt')\n",
    "nltk.download('averaged_perceptron_tagger')\n",
    "nltk.download('brown')\n",
    "import matplotlib.pyplot as plt\n",
    "import re"
   ]
  },
  {
   "cell_type": "code",
   "execution_count": 2,
   "metadata": {
    "id": "Ub7uMmF-v4DT"
   },
   "outputs": [],
   "source": [
    "def read_text_file(file_path):\n",
    "    with open(file_path, 'r') as f:\n",
    "        return(f.read())"
   ]
  },
  {
   "cell_type": "code",
   "execution_count": 102,
   "metadata": {
    "id": "gfwIustEwqVA"
   },
   "outputs": [],
   "source": [
    "lectures = [read_text_file(os.path.join(\"Transcribes\", file)) for file in os.listdir(\"Transcribes\")]"
   ]
  },
  {
   "cell_type": "code",
   "execution_count": 4,
   "metadata": {
    "colab": {
     "base_uri": "https://localhost:8080/"
    },
    "id": "AjIQOUJKEDg1",
    "outputId": "1660945e-3350-495e-d0eb-1c6fcaa81141"
   },
   "outputs": [
    {
     "data": {
      "text/plain": [
       "['Lecture_02.txt',\n",
       " 'Lecture_03.txt',\n",
       " 'Lecture_04.txt',\n",
       " 'Lecture_05.txt',\n",
       " 'Lecture_06.txt',\n",
       " 'Lecture_07.txt',\n",
       " 'Lecture_08.txt',\n",
       " 'Lecture_09.txt',\n",
       " 'Lecture_10.txt',\n",
       " 'Lecture_11.txt',\n",
       " 'Lecture_12.txt']"
      ]
     },
     "execution_count": 4,
     "metadata": {},
     "output_type": "execute_result"
    }
   ],
   "source": [
    "a = [file for file in os.listdir(\"Transcribes\")]\n",
    "#a.sort()\n",
    "a"
   ]
  },
  {
   "cell_type": "code",
   "execution_count": 88,
   "metadata": {
    "id": "eXSaSzFiEwGj"
   },
   "outputs": [
    {
     "data": {
      "text/plain": [
       "['Lecture_02.txt',\n",
       " 'Lecture_03.txt',\n",
       " 'Lecture_04.txt',\n",
       " 'Lecture_05.txt',\n",
       " 'Lecture_06.txt',\n",
       " 'Lecture_07.txt',\n",
       " 'Lecture_08.txt',\n",
       " 'Lecture_09.txt',\n",
       " 'Lecture_10.txt',\n",
       " 'Lecture_11.txt',\n",
       " 'Lecture_12.txt']"
      ]
     },
     "execution_count": 88,
     "metadata": {},
     "output_type": "execute_result"
    }
   ],
   "source": [
    "['Lecture_02.txt',\n",
    " 'Lecture_03.txt',\n",
    " 'Lecture_04.txt',\n",
    " 'Lecture_05.txt',\n",
    " 'Lecture_06.txt',\n",
    " 'Lecture_07.txt',\n",
    " 'Lecture_08.txt',\n",
    " 'Lecture_09.txt',\n",
    " 'Lecture_10.txt',\n",
    " 'Lecture_11.txt',\n",
    " 'Lecture_12.txt']"
   ]
  },
  {
   "cell_type": "markdown",
   "metadata": {
    "id": "CovpFnO2x_Od"
   },
   "source": [
    "# Exploration"
   ]
  },
  {
   "cell_type": "code",
   "execution_count": 6,
   "metadata": {
    "id": "tT3Ydmg8zbme"
   },
   "outputs": [
    {
     "data": {
      "text/plain": [
       "[('right', 19),\n",
       " ('going', 20),\n",
       " ('function', 20),\n",
       " ('all', 20),\n",
       " ('now', 20),\n",
       " ('very', 21),\n",
       " ('mean', 21),\n",
       " ('know', 21),\n",
       " ('equal', 21),\n",
       " ('example', 21),\n",
       " ('random', 21),\n",
       " ('density', 21),\n",
       " ('way', 22),\n",
       " ('bias', 22),\n",
       " ('variance', 22),\n",
       " ('Yes', 23),\n",
       " ('case', 23),\n",
       " ('y', 24),\n",
       " ('population', 24),\n",
       " ('get', 24),\n",
       " ('they', 24),\n",
       " ('number', 25),\n",
       " ('Yeah', 25),\n",
       " ('see', 26),\n",
       " ('your', 26),\n",
       " ('experiment', 26),\n",
       " ('at', 27),\n",
       " ('want', 27),\n",
       " ('also', 28),\n",
       " ('first', 28),\n",
       " (\"n't\", 28),\n",
       " ('sample', 30),\n",
       " ('some', 31),\n",
       " ('two', 31),\n",
       " ('how', 32),\n",
       " ('samples', 32),\n",
       " ('actually', 32),\n",
       " ('probability', 32),\n",
       " ('data', 33),\n",
       " ('estimator', 33),\n",
       " ('think', 35),\n",
       " ('maybe', 35),\n",
       " ('which', 35),\n",
       " ('But', 35),\n",
       " ('distribution', 35),\n",
       " ('more', 35),\n",
       " ('basically', 36),\n",
       " ('people', 38),\n",
       " ('expectation', 38),\n",
       " ('about', 41),\n",
       " ('would', 42),\n",
       " ('not', 43),\n",
       " ('sampling', 43),\n",
       " ('an', 44),\n",
       " ('with', 44),\n",
       " ('or', 45),\n",
       " ('but', 45),\n",
       " ('by', 45),\n",
       " ('as', 47),\n",
       " (\"'re\", 47),\n",
       " ('here', 49),\n",
       " ('one', 50),\n",
       " ('on', 53),\n",
       " ('like', 55),\n",
       " ('because', 55),\n",
       " ('there', 56),\n",
       " ('then', 57),\n",
       " ('Okay', 60),\n",
       " ('just', 63),\n",
       " ('what', 67),\n",
       " ('will', 69),\n",
       " ('do', 69),\n",
       " ('from', 71),\n",
       " ('?', 73),\n",
       " ('x', 75),\n",
       " ('are', 79),\n",
       " ('so', 81),\n",
       " ('if', 82),\n",
       " (\"'s\", 101),\n",
       " ('have', 105),\n",
       " ('be', 106),\n",
       " ('for', 110),\n",
       " ('can', 112),\n",
       " ('I', 117),\n",
       " ('And', 136),\n",
       " ('in', 140),\n",
       " ('it', 141),\n",
       " ('and', 150),\n",
       " ('So', 199),\n",
       " ('that', 204),\n",
       " ('we', 209),\n",
       " ('a', 213),\n",
       " ('to', 248),\n",
       " ('is', 260),\n",
       " ('this', 269),\n",
       " ('of', 287),\n",
       " ('you', 309),\n",
       " ('.', 585),\n",
       " ('the', 593),\n",
       " (',', 693)]"
      ]
     },
     "execution_count": 6,
     "metadata": {},
     "output_type": "execute_result"
    }
   ],
   "source": [
    "# word frequency\n",
    "tokens = nltk.word_tokenize(lectures[0])\n",
    "freq = nltk.FreqDist(tokens)\n",
    "freq = sorted(freq.items(), key=lambda item: item[1])\n",
    "freq[-100:]\n"
   ]
  },
  {
   "cell_type": "code",
   "execution_count": 7,
   "metadata": {
    "id": "Hj7RzuBZ13Ia"
   },
   "outputs": [],
   "source": [
    "# word frequency of nouns\n",
    "# TODO rather restrictive, i.e. regression and logistic regression are two different words\n",
    "blob = TextBlob(lectures[0])\n",
    "freq = nltk.FreqDist(blob.noun_phrases)\n",
    "freq = sorted(freq.items(), key=lambda item: item[1])\n",
    "\n"
   ]
  },
  {
   "cell_type": "code",
   "execution_count": 8,
   "metadata": {
    "id": "fGhg19Ms2viF"
   },
   "outputs": [
    {
     "data": {
      "text/plain": [
       "[('be', 106),\n",
       " ('for', 110),\n",
       " ('can', 112),\n",
       " ('I', 117),\n",
       " ('And', 136),\n",
       " ('in', 140),\n",
       " ('it', 141),\n",
       " ('and', 150),\n",
       " ('So', 199),\n",
       " ('that', 204),\n",
       " ('we', 209),\n",
       " ('a', 213),\n",
       " ('to', 248),\n",
       " ('is', 260),\n",
       " ('this', 269),\n",
       " ('of', 287),\n",
       " ('you', 309),\n",
       " ('.', 585),\n",
       " ('the', 593),\n",
       " (',', 693)]"
      ]
     },
     "execution_count": 8,
     "metadata": {},
     "output_type": "execute_result"
    }
   ],
   "source": [
    "# TODO does not rlly work\n",
    "is_noun = lambda pos: pos[:2] == 'NN'\n",
    "tokenized = nltk.word_tokenize(lectures[0])\n",
    "freq = [word for (word, pos) in nltk.pos_tag(tokenized) if is_noun(pos)] \n",
    "freq = nltk.FreqDist(tokens)\n",
    "freq = sorted(freq.items(), key=lambda item: item[1])\n",
    "freq[-20:]"
   ]
  },
  {
   "cell_type": "markdown",
   "metadata": {
    "id": "KbczwHhX7R62"
   },
   "source": [
    "# Tokens with overall highest frequency"
   ]
  },
  {
   "cell_type": "code",
   "execution_count": 9,
   "metadata": {
    "colab": {
     "base_uri": "https://localhost:8080/"
    },
    "id": "PI7nkRxX7Se5",
    "outputId": "026e96e1-c005-46ee-bbbf-04ab13c75755"
   },
   "outputs": [
    {
     "data": {
      "text/plain": [
       "[(\"'s kind\", 32),\n",
       " ('maximum likelihood estimate', 32),\n",
       " ('null hypothesis', 33),\n",
       " ('python', 34),\n",
       " ('machine learning', 35),\n",
       " ('log likelihood', 35),\n",
       " ('logistic regression', 35),\n",
       " ('ai', 40),\n",
       " ('fisher', 42),\n",
       " ('oh', 47),\n",
       " ('germany', 52),\n",
       " ('linear regression', 52),\n",
       " ('bayesian', 60),\n",
       " (\"ca n't\", 72),\n",
       " ('well', 78),\n",
       " ('yeah', 79),\n",
       " ('pca', 85),\n",
       " ('right', 125),\n",
       " ('gaussian', 153),\n",
       " ('okay', 433)]"
      ]
     },
     "execution_count": 9,
     "metadata": {},
     "output_type": "execute_result"
    }
   ],
   "source": [
    "joined = \"\"\n",
    "for l in lectures:\n",
    "  joined += \" \" + l\n",
    "blob = TextBlob(joined)\n",
    "freq = nltk.FreqDist(blob.noun_phrases)\n",
    "freq = sorted(freq.items(), key=lambda item: item[1])\n",
    "freq[-20:]"
   ]
  },
  {
   "cell_type": "code",
   "execution_count": null,
   "metadata": {},
   "outputs": [],
   "source": []
  },
  {
   "cell_type": "code",
   "execution_count": null,
   "metadata": {},
   "outputs": [],
   "source": []
  },
  {
   "cell_type": "code",
   "execution_count": 10,
   "metadata": {
    "id": "AdfD15wX9UBD"
   },
   "outputs": [],
   "source": [
    "# absolute occurances of sensible noun phrases of top 50\n",
    "# 9844 noun phrases\n",
    "# (trivia - he said okay 434 times)\n",
    "result_all = {\"gaussian\":153,\"pca\":85,\"bayesian\":60,\"linear regression\":52,\"fisher\":42,\"ai\":40,\"machine learning\":35,\"logistic regression\":35,\"log likelihood\":35,\"null hypothesis\":33,\"maximum likelihood estimate\":32,\n",
    " \"iid\":31,\"standard deviation\":28,\"linear function\":28,\"principal component\":21,\"random number\":19,\"high dimensional space\":19,\"dimensional space\":19,\"laplace\":18,\"p value\":17,\n",
    " \"control group\":17, \"monte carlo\":16,\"information matrix\":15,\"linear model\":15}\n"
   ]
  },
  {
   "cell_type": "markdown",
   "metadata": {
    "id": "WZxjjvnj865g"
   },
   "source": [
    "# High frequency tokens per lecture"
   ]
  },
  {
   "cell_type": "code",
   "execution_count": null,
   "metadata": {
    "id": "qx9SjCNVAzs7"
   },
   "outputs": [],
   "source": [
    "#Lecture 07\n",
    "# 870 noun phrases in total\n",
    "[('binary distribution', 3),\n",
    " ('regression function', 3),\n",
    " ('% probability', 3),\n",
    " ('negative log likelihood', 3),\n",
    " ('log probability', 3),\n",
    " ('odds ratios', 3),\n",
    " ('poisson', 3),\n",
    " ('decision surface', 4),\n",
    " ('binary outcomes', 4),\n",
    " ('bernoulli', 4),\n",
    " ('average weight', 4),\n",
    " ('linear regression model', 4),\n",
    " ('causal link', 5),\n",
    " ('exponential family', 5),\n",
    " ('maximum likelihood estimation', 6),\n",
    " ('bayesian', 6),\n",
    " ('link function', 6),\n",
    " ('linear model', 8),\n",
    " ('omega', 9),\n",
    " ('regression model', 10),\n",
    " ('nonlinear function', 10),\n",
    " ('log likelihood', 11),\n",
    " ('linear regression', 17),\n",
    " ('linear function', 19),\n",
    " ('logistic regression', 28),\n",
    " ('gaussian', 31),]"
   ]
  },
  {
   "cell_type": "code",
   "execution_count": null,
   "metadata": {
    "id": "uEuOA_cyBj6t"
   },
   "outputs": [],
   "source": [
    "# Lecture 11\n",
    "# 966 total\n",
    "[('unit tests', 2),\n",
    " ('% confidence', 2),\n",
    " ('design process', 3),\n",
    " ('open science', 3),\n",
    " ('real world', 3),\n",
    " ('involves data', 3),\n",
    " ('software engineering', 3),\n",
    " ('machine learning algorithm', 3),\n",
    " ('neural network', 3),\n",
    " ('pdfs', 4),\n",
    " ('deep neural network', 5),\n",
    " ('pdf', 7),\n",
    " ('github', 7),\n",
    " ('ai', 8),\n",
    " ('machine learning', 8),\n",
    " ('git', 23)]"
   ]
  },
  {
   "cell_type": "code",
   "execution_count": null,
   "metadata": {
    "id": "3ZI57SgYCBww"
   },
   "outputs": [],
   "source": [
    "# Lecture 05\n",
    "# 874\n",
    "[('true positive rate', 2),\n",
    " ('false positive rate', 2),\n",
    " ('qr', 2),\n",
    " ('base explanation', 3),\n",
    " ('possible explanation', 3),\n",
    " ('iid', 3),\n",
    " ('control group', 3),\n",
    " ('study protocol', 3),\n",
    " ('exact test', 3),\n",
    " ('probability f.', 3),\n",
    " ('unknown variable f', 3),\n",
    " ('power times', 3),\n",
    " ('classification algorithms', 3),\n",
    " ('vaccine efficacy', 4),\n",
    " ('treatment group', 4),\n",
    " ('machine learning', 4),\n",
    " ('control trial', 5),\n",
    " ('rejection region', 5),\n",
    " ('beta distribution', 5),\n",
    " ('mt', 5),\n",
    " ('p values', 5),\n",
    " ('roc', 5),\n",
    " ('fisher', 6),\n",
    " ('treatment arm', 6),\n",
    " ('control arm', 9),\n",
    " ('bayesian', 11),\n",
    " ('gaussian', 11),\n",
    " ('p value', 11),\n",
    " ('mc', 12),\n",
    " ('null hypothesis', 23)]"
   ]
  },
  {
   "cell_type": "code",
   "execution_count": null,
   "metadata": {
    "id": "opfS8VEeCjRx"
   },
   "outputs": [],
   "source": [
    "#lecture 8\n",
    "#total 980\n",
    "[('who', 3),\n",
    " ('generative dimensionality reduction', 3),\n",
    " ('orthonormal basis', 3),\n",
    " ('inner derivative', 3),\n",
    " ('optimal choice', 3),\n",
    " ('svd', 3),\n",
    " ('low dimensional representation', 3),\n",
    " ('geoff hinton', 3),\n",
    " ('global structure', 3),\n",
    " ('tc', 3),\n",
    " ('qr', 4),\n",
    " ('quadratic loss', 4),\n",
    " ('loss function', 4),\n",
    " ('reconstruction error', 4),\n",
    " ('singular value decomposition', 4),\n",
    " ('standard deviation', 4),\n",
    " ('dimensionality reduction', 5),\n",
    " ('low dimensional space', 5),\n",
    " ('eigen', 5),\n",
    " ('euclidean', 5),\n",
    " ('gaussian', 7),\n",
    " ('fisher', 7),\n",
    " ('lda', 8),\n",
    " ('principal components', 11),\n",
    " ('dimensional space', 16),\n",
    " ('high dimensional space', 17),\n",
    " ('pca', 44)]"
   ]
  },
  {
   "cell_type": "code",
   "execution_count": null,
   "metadata": {
    "id": "PEr6o_SoFCtm"
   },
   "outputs": [],
   "source": [
    "# lecture 3\n",
    "# total 838\n",
    "[('maximum likelihood', 2),\n",
    " ('machine learning class', 2),\n",
    " ('x i', 2),\n",
    " ('s square', 2),\n",
    " ('consistent estimate', 2),\n",
    " ('binary logarithm', 3),\n",
    " ('conditional distribution', 3),\n",
    " ('binary questions', 3),\n",
    " ('information gain', 3),\n",
    " ('euclidean', 3),\n",
    " ('standard deviation', 3),\n",
    " ('kl', 3),\n",
    " ('random numbers', 4),\n",
    " ('iid', 4),\n",
    " ('information content', 4),\n",
    " ('log likelihood', 4),\n",
    " ('sufficient statistics', 4),\n",
    " ('qr', 5),\n",
    " ('monte carlo', 5),\n",
    " ('square root', 5),\n",
    " ('shannon', 5),\n",
    " ('conditional entropy', 5),\n",
    " ('sigma square', 7),\n",
    " ('bayesian', 9),\n",
    " ('maximum likelihood estimate', 9),\n",
    " ('random number', 12),\n",
    " ('possible outcomes', 12),\n",
    " ('gaussian', 12)]"
   ]
  },
  {
   "cell_type": "code",
   "execution_count": 97,
   "metadata": {
    "colab": {
     "base_uri": "https://localhost:8080/"
    },
    "id": "yuw6zh77AhDL",
    "outputId": "8a79bc9e-0e86-4700-a853-4e91ed01d4a7"
   },
   "outputs": [
    {
     "data": {
      "text/plain": [
       "[('maximum likelihood', 2),\n",
       " ('machine learning class', 2),\n",
       " ('whole data', 2),\n",
       " ('x i', 2),\n",
       " ('s square', 2),\n",
       " ('consistent estimate', 2),\n",
       " ('design experiments', 3),\n",
       " ('actual value', 3),\n",
       " ('binary logarithm', 3),\n",
       " ('conditional distribution', 3),\n",
       " ('binary questions', 3),\n",
       " ('possible answers', 3),\n",
       " ('information gain', 3),\n",
       " ('scale tips', 3),\n",
       " ('blackboard', 3),\n",
       " ('left hand side', 3),\n",
       " (\"'s straightforward\", 3),\n",
       " ('tricky business', 3),\n",
       " ('annoyingly', 3),\n",
       " (\"n't matter\", 3),\n",
       " ('euclidean', 3),\n",
       " ('standard deviation', 3),\n",
       " ('kl', 3),\n",
       " ('n times', 3),\n",
       " ('zoom', 4),\n",
       " ('random numbers', 4),\n",
       " ('iid', 4),\n",
       " ('information content', 4),\n",
       " ('log likelihood', 4),\n",
       " ('nice property', 4),\n",
       " ('sufficient statistics', 4),\n",
       " ('thanks', 5),\n",
       " ('qr', 5),\n",
       " ('monte carlo', 5),\n",
       " ('square root', 5),\n",
       " ('shannon', 5),\n",
       " ('conditional entropy', 5),\n",
       " ('yeah', 5),\n",
       " (\"ca n't\", 6),\n",
       " ('good thing', 6),\n",
       " ('sigma square', 7),\n",
       " ('unknown quantity', 8),\n",
       " ('well', 9),\n",
       " ('bayesian', 9),\n",
       " ('maximum likelihood estimate', 9),\n",
       " ('right', 11),\n",
       " ('random number', 12),\n",
       " ('possible outcomes', 12),\n",
       " ('gaussian', 12),\n",
       " ('okay', 35)]"
      ]
     },
     "execution_count": 97,
     "metadata": {},
     "output_type": "execute_result"
    }
   ],
   "source": [
    "blob = TextBlob(lectures[4])\n",
    "freq = nltk.FreqDist(blob.noun_phrases)\n",
    "freq = sorted(freq.items(), key=lambda item: item[1])\n",
    "freq[-50:]\n"
   ]
  },
  {
   "cell_type": "code",
   "execution_count": 98,
   "metadata": {
    "colab": {
     "base_uri": "https://localhost:8080/"
    },
    "id": "Ln3V9croBV5e",
    "outputId": "a24ad271-a870-405f-eb42-f18d956471aa"
   },
   "outputs": [
    {
     "data": {
      "text/plain": [
       "838"
      ]
     },
     "execution_count": 98,
     "metadata": {},
     "output_type": "execute_result"
    }
   ],
   "source": [
    "len(blob.noun_phrases)"
   ]
  },
  {
   "cell_type": "code",
   "execution_count": null,
   "metadata": {},
   "outputs": [],
   "source": []
  },
  {
   "cell_type": "code",
   "execution_count": null,
   "metadata": {},
   "outputs": [],
   "source": []
  },
  {
   "cell_type": "markdown",
   "metadata": {},
   "source": [
    "The aim is to get a better impression of overall term frequency of topic related nouns. Therefore we reduce nouns which do not contain any information about lecture topics. We do this by selecting such terms, which are often just phrases or transcription mistakes (like 'll), from the 50 most spoken nouns by hand. "
   ]
  },
  {
   "cell_type": "code",
   "execution_count": 76,
   "metadata": {},
   "outputs": [],
   "source": [
    "import numpy as np\n",
    "import seaborn as sns"
   ]
  },
  {
   "cell_type": "code",
   "execution_count": 42,
   "metadata": {},
   "outputs": [],
   "source": [
    "overall_highest = sorted(nltk.FreqDist(blob.noun_phrases).items(),key=lambda item: item[1])[-50:]"
   ]
  },
  {
   "cell_type": "code",
   "execution_count": 43,
   "metadata": {},
   "outputs": [],
   "source": [
    "exclude = ['thanks', 'omicron', 'possible outcomes' 'good thing', 'zoom', 'qr', \"'ll talk\", 'uk', 'good idea',\n",
    "           'square root', 'alright', \"n't work\", 'phd', \"'s kind\", 'oh', 'germany', \"ca n't\", 'well', 'yeah',\n",
    "           'right', 'okay']"
   ]
  },
  {
   "cell_type": "code",
   "execution_count": 85,
   "metadata": {
    "scrolled": true
   },
   "outputs": [
    {
     "data": {
      "text/plain": [
       "[('nonlinear function', 14),\n",
       " ('information matrix', 15),\n",
       " ('linear model', 15),\n",
       " ('possible outcomes', 16),\n",
       " ('monte carlo', 16),\n",
       " ('data points', 17),\n",
       " ('control group', 17),\n",
       " ('p value', 17),\n",
       " ('good thing', 18),\n",
       " ('laplace', 18),\n",
       " ('random number', 19),\n",
       " ('pdf', 19),\n",
       " ('dimensional space', 19),\n",
       " ('high dimensional space', 19),\n",
       " ('principal components', 21),\n",
       " ('git', 26),\n",
       " ('standard deviation', 28),\n",
       " ('linear function', 28),\n",
       " ('iid', 31),\n",
       " ('maximum likelihood estimate', 32),\n",
       " ('null hypothesis', 33),\n",
       " ('python', 34),\n",
       " ('machine learning', 35),\n",
       " ('log likelihood', 35),\n",
       " ('logistic regression', 35),\n",
       " ('ai', 40),\n",
       " ('fisher', 42),\n",
       " ('linear regression', 52),\n",
       " ('bayesian', 60),\n",
       " ('pca', 85),\n",
       " ('gaussian', 153)]"
      ]
     },
     "execution_count": 85,
     "metadata": {},
     "output_type": "execute_result"
    }
   ],
   "source": [
    "important_nouns = []\n",
    "for noun in overall_highest:\n",
    "    if noun[0] not in exclude:\n",
    "        important_nouns.append(noun)\n",
    "important_nouns = np.array(important_nouns)"
   ]
  },
  {
   "cell_type": "code",
   "execution_count": 87,
   "metadata": {},
   "outputs": [
    {
     "data": {
      "text/plain": [
       "<BarContainer object of 31 artists>"
      ]
     },
     "execution_count": 87,
     "metadata": {},
     "output_type": "execute_result"
    },
    {
     "data": {
      "image/png": "[encoded data removed]",
      "text/plain": [
       "<Figure size 864x864 with 1 Axes>"
      ]
     },
     "metadata": {
      "needs_background": "light"
     },
     "output_type": "display_data"
    }
   ],
   "source": [
    "# Chart is super ugly, but this simple kind of visualisation could be nice for a overall overview\n",
    "# If we decide to put such a plot in the paper we can make this plot pretty nice I think\n",
    "plt.figure(figsize =(12, 12))\n",
    "plt.barh(important_nouns[:,0], important_nouns[:,1])"
   ]
  },
  {
   "cell_type": "code",
   "execution_count": null,
   "metadata": {},
   "outputs": [],
   "source": []
  },
  {
   "cell_type": "code",
   "execution_count": null,
   "metadata": {},
   "outputs": [],
   "source": []
  },
  {
   "cell_type": "markdown",
   "metadata": {},
   "source": [
    "Predicting the content of the exam:\n",
    "* Over all frequency gives us insights which topics seem to be important over all lectures\n",
    "    * For example Gaussian, Baysian are fundamentals of other topics, therefore they seem to be important for several topics and important to learn for the exam\n",
    "\n",
    "* Problem: Some terms like linear or logistic regression, maximum likelihood estimator are topics of specific lectures\n",
    "    * If the term logisitic regression gets mentioned extremly often in the logistic regression lecture, it does not mean that this lecture or topic is more important.\n",
    "    * Reasons for this assumption:\n",
    "        * not every lecture is held by mister Hennig. Different persons may have different styles of explaining and illustrating topics.\n",
    "        * To explain a specific topic one word could occur very often. If this topic is not relevant itself, the high frequency of the word has no power in answering our question.\n",
    "        \n",
    "\n",
    "To get another prediction of exam topics, we need to find a structure of a probability across lectures. This could emphasize basic knowledge behind the topics.\n",
    "\n",
    "Example if f.e. iid. would occur as a result, we would assume understanding iid and it's consequences to the data is crucial to understand the topics which are based on iid assumptions. \n"
   ]
  },
  {
   "cell_type": "code",
   "execution_count": 103,
   "metadata": {},
   "outputs": [],
   "source": [
    "lectures_dict = {}\n",
    "for file in os.listdir(\"Transcribes\"):\n",
    "    lectures_dict[re.sub(\"\\D\", \"\", file)] = read_text_file(os.path.join(\"Transcribes\", file))"
   ]
  },
  {
   "cell_type": "code",
   "execution_count": 110,
   "metadata": {},
   "outputs": [],
   "source": [
    "def token_frequency(blob):\n",
    "    freq = nltk.FreqDist(blob.noun_phrases)\n",
    "    freq = sorted(freq.items(), key=lambda item: item[1])\n",
    "    return freq"
   ]
  },
  {
   "cell_type": "code",
   "execution_count": 115,
   "metadata": {},
   "outputs": [
    {
     "data": {
      "text/plain": [
       "[('exponential family', 5),\n",
       " ('yeah', 6),\n",
       " ('omega zero', 6),\n",
       " (\"ca n't\", 6),\n",
       " ('maximum likelihood estimation', 6),\n",
       " ('bayesian', 6),\n",
       " ('positive number', 6),\n",
       " ('link function', 6),\n",
       " ('alright', 8),\n",
       " ('linear model', 8),\n",
       " ('well', 9),\n",
       " ('omega', 9),\n",
       " ('regression model', 10),\n",
       " ('nonlinear function', 10),\n",
       " ('log likelihood', 11),\n",
       " ('linear regression', 17),\n",
       " ('linear function', 19),\n",
       " ('logistic regression', 28),\n",
       " ('gaussian', 31),\n",
       " ('okay', 89)]"
      ]
     },
     "execution_count": 115,
     "metadata": {},
     "output_type": "execute_result"
    }
   ],
   "source": [
    "# logistic regression lecture\n",
    "lec_7 = token_frequency(TextBlob(lectures_dict[\"07\"]))\n",
    "lec_7[-20:]"
   ]
  },
  {
   "cell_type": "code",
   "execution_count": 120,
   "metadata": {},
   "outputs": [
    {
     "data": {
      "text/plain": [
       "[('regression problem', 4),\n",
       " ('different parameters', 4),\n",
       " ('input x', 5),\n",
       " ('parameters omega', 5),\n",
       " ('regression models', 5),\n",
       " ('linear function', 5),\n",
       " ('peter', 5),\n",
       " ('null hypothesis', 5),\n",
       " ('posterior distribution', 5),\n",
       " ('linear models', 6),\n",
       " ('linear model', 6),\n",
       " ('right', 7),\n",
       " ('well', 8),\n",
       " ('machine learning', 9),\n",
       " ('alright', 10),\n",
       " ('pca', 10),\n",
       " ('bayesian', 16),\n",
       " ('linear regression', 35),\n",
       " ('gaussian', 44),\n",
       " ('okay', 63)]"
      ]
     },
     "execution_count": 120,
     "metadata": {},
     "output_type": "execute_result"
    }
   ],
   "source": [
    "# linear regression lecture\n",
    "lec_6 = token_frequency(TextBlob(lectures_dict[\"06\"]))\n",
    "lec_6[-20:]"
   ]
  },
  {
   "cell_type": "code",
   "execution_count": null,
   "metadata": {},
   "outputs": [],
   "source": []
  },
  {
   "cell_type": "code",
   "execution_count": null,
   "metadata": {},
   "outputs": [],
   "source": []
  },
  {
   "cell_type": "code",
   "execution_count": null,
   "metadata": {},
   "outputs": [],
   "source": []
  }
 ],
 "metadata": {
  "colab": {
   "authorship_tag": "ABX9TyPgAU34+j7vHaplaZenCoLf",
   "collapsed_sections": [
    "CovpFnO2x_Od",
    "KbczwHhX7R62"
   ],
   "include_colab_link": true,
   "name": "WordFrequency.ipynb",
   "provenance": []
  },
  "kernelspec": {
   "display_name": "Python 3",
   "language": "python",
   "name": "python3"
  },
  "language_info": {
   "codemirror_mode": {
    "name": "ipython",
    "version": 3
   },
   "file_extension": ".py",
   "mimetype": "text/x-python",
   "name": "python",
   "nbconvert_exporter": "python",
   "pygments_lexer": "ipython3",
   "version": "3.6.5"
  }
 },
 "nbformat": 4,
 "nbformat_minor": 1
}
